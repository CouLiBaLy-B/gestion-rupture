{
 "cells": [
  {
   "cell_type": "markdown",
   "metadata": {},
   "source": [
    "pour le projet de codification, prendre en compte les images disponible sur le site de la banque mondiale\n",
    "- version une version full machine learning avec uniquemeney les item_desc\n",
    "- version deux avec les IA generative en incluant en optionel les images ( il faudra donc prendre en compte des modele  multiple modaux) \n",
    "- version combinée des deux premiers pour vous les amelioration possibles.\n",
    "\n",
    "Idée : Utiliser les code de Benjamin et Remy pour avoir une idée sur le process\n",
    "\n",
    "\n",
    "Les etapes principales sont les suivantes: \n",
    "    - commencer par une relecture du code sur huggingface \n",
    "    - faire un premier test avec les données de test\n",
    "    - revoir le fonctionnement globale du code \n",
    "    - ameliorer le code exsitant\n",
    "    - se base sur les recommandant de groupement de classe de Emmmanuel eventuelllment Harald\n",
    "    - Augment le nombre de classe pris en compte soit par groupe ou pas super groupe comme durant mon alternance"
   ]
  },
  {
   "cell_type": "code",
   "execution_count": null,
   "metadata": {},
   "outputs": [],
   "source": []
  }
 ],
 "metadata": {
  "kernelspec": {
   "display_name": "Python 3",
   "language": "python",
   "name": "python3"
  },
  "language_info": {
   "codemirror_mode": {
    "name": "ipython",
    "version": 3
   },
   "file_extension": ".py",
   "mimetype": "text/x-python",
   "name": "python",
   "nbconvert_exporter": "python",
   "pygments_lexer": "ipython3",
   "version": "3.9.0"
  }
 },
 "nbformat": 4,
 "nbformat_minor": 2
}
